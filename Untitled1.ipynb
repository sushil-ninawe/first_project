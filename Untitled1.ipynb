{
 "cells": [
  {
   "cell_type": "code",
   "execution_count": 1,
   "id": "929a6dce-aaf6-4e01-a747-4256644662d7",
   "metadata": {},
   "outputs": [],
   "source": [
    "import datetime\n",
    "\n",
    "from sklearn import datasets\n",
    "\n",
    "from evidently.metrics import ColumnDriftMetric\n",
    "from evidently.metrics import ColumnSummaryMetric\n",
    "from evidently.metrics import DatasetDriftMetric\n",
    "from evidently.metrics import DatasetMissingValuesMetric\n",
    "from evidently.report import Report\n",
    "from evidently.test_preset import DataDriftTestPreset\n",
    "from evidently.test_suite import TestSuite\n",
    "from evidently.ui.dashboards import CounterAgg\n",
    "from evidently.ui.dashboards import DashboardPanelCounter\n",
    "from evidently.ui.dashboards import DashboardPanelPlot\n",
    "from evidently.ui.dashboards import PanelValue\n",
    "from evidently.ui.dashboards import PlotType\n",
    "from evidently.ui.dashboards import ReportFilter\n",
    "from evidently.ui.remote import RemoteWorkspace\n",
    "from evidently.ui.workspace import Workspace\n",
    "from evidently.ui.workspace import WorkspaceBase"
   ]
  },
  {
   "cell_type": "code",
   "execution_count": 2,
   "id": "4ea7fe1e-cfae-4b78-9e54-ef34b3da8a2d",
   "metadata": {},
   "outputs": [
    {
     "name": "stderr",
     "output_type": "stream",
     "text": [
      "/opt/anaconda3/lib/python3.11/site-packages/sklearn/datasets/_openml.py:968: FutureWarning: The default value of `parser` will change from `'liac-arff'` to `'auto'` in 1.4. You can set `parser='auto'` to silence this warning. Therefore, an `ImportError` will be raised from 1.4 if the dataset is dense and pandas is not installed. Note that the pandas parser may return different data types. See the Notes Section in fetch_openml's API doc for details.\n",
      "  warn(\n"
     ]
    }
   ],
   "source": [
    "adult_data = datasets.fetch_openml(name=\"adult\", version=2, as_frame=\"auto\")\n",
    "adult = adult_data.frame\n",
    "\n",
    "adult_ref = adult[~adult.education.isin([\"Some-college\", \"HS-grad\", \"Bachelors\"])]\n",
    "adult_cur = adult[adult.education.isin([\"Some-college\", \"HS-grad\", \"Bachelors\"])]\n",
    "\n",
    "WORKSPACE = \"evidently_mod_monitor_09_Jun_ws\"\n",
    "\n",
    "YOUR_PROJECT_NAME = \"monitor_09_Jun\"\n",
    "YOUR_PROJECT_DESCRIPTION = \"Trying to setup new dashboard from scratch in offline mode\""
   ]
  },
  {
   "cell_type": "code",
   "execution_count": 3,
   "id": "d474c955-cfdb-44fc-ba01-dce03126324d",
   "metadata": {},
   "outputs": [
    {
     "data": {
      "text/plain": [
       "Index(['age', 'workclass', 'fnlwgt', 'education', 'education-num',\n",
       "       'marital-status', 'occupation', 'relationship', 'race', 'sex',\n",
       "       'capital-gain', 'capital-loss', 'hours-per-week', 'native-country',\n",
       "       'class'],\n",
       "      dtype='object')"
      ]
     },
     "execution_count": 3,
     "metadata": {},
     "output_type": "execute_result"
    }
   ],
   "source": [
    "adult_cur.columns"
   ]
  },
  {
   "cell_type": "code",
   "execution_count": 4,
   "id": "ea7a1b7a-fe21-461f-853b-c4fa393482fb",
   "metadata": {},
   "outputs": [],
   "source": [
    "def create_report(i: int):\n",
    "    data_drift_report = Report(\n",
    "        metrics=[\n",
    "            DatasetDriftMetric(),\n",
    "            DatasetMissingValuesMetric(),\n",
    "            ColumnDriftMetric(column_name=\"age\", stattest=\"wasserstein\"),\n",
    "            ColumnSummaryMetric(column_name=\"age\"),\n",
    "            ColumnDriftMetric(column_name=\"education-num\", stattest=\"wasserstein\"),\n",
    "            ColumnSummaryMetric(column_name=\"education-num\"),\n",
    "        ],\n",
    "        timestamp=datetime.datetime.now() + datetime.timedelta(days=i),\n",
    "    )\n",
    "\n",
    "    data_drift_report.run(reference_data=adult_ref, current_data=adult_cur.iloc[100 * i : 100 * (i + 1), :])\n",
    "    return data_drift_report\n",
    "\n",
    "\n",
    "def create_test_suite(i: int):\n",
    "    data_drift_test_suite = TestSuite(\n",
    "        tests=[DataDriftTestPreset()],\n",
    "        timestamp=datetime.datetime.now() + datetime.timedelta(days=i),\n",
    "    )\n",
    "\n",
    "    data_drift_test_suite.run(reference_data=adult_ref, current_data=adult_cur.iloc[100 * i : 100 * (i + 1), :])\n",
    "    return data_drift_test_suite\n"
   ]
  },
  {
   "cell_type": "code",
   "execution_count": 5,
   "id": "5ff28b68-a65d-485a-b8d2-d297c5dffe0e",
   "metadata": {},
   "outputs": [],
   "source": [
    "def create_project(workspace: WorkspaceBase):\n",
    "    project = workspace.create_project(YOUR_PROJECT_NAME)\n",
    "    project.description = YOUR_PROJECT_DESCRIPTION\n",
    "    \n",
    "    # PANEL - 1 \n",
    "    project.dashboard.add_panel(\n",
    "        DashboardPanelCounter(\n",
    "            filter=ReportFilter(metadata_values={}, tag_values=[]),\n",
    "            agg=CounterAgg.NONE,\n",
    "            title=\"Census Income Dataset (Adult)\",\n",
    "        )\n",
    "    )\n",
    "\n",
    "    # PANEL - 2\n",
    "    project.dashboard.add_panel(\n",
    "        DashboardPanelCounter(\n",
    "            title=\"Model Calls\",\n",
    "            filter=ReportFilter(metadata_values={}, tag_values=[]),\n",
    "            value=PanelValue(\n",
    "                metric_id=\"DatasetMissingValuesMetric\",\n",
    "                field_path=DatasetMissingValuesMetric.fields.current.number_of_rows,\n",
    "                legend=\"count\",\n",
    "            ),\n",
    "            text=\"count\",\n",
    "            agg=CounterAgg.SUM,\n",
    "            size=1,\n",
    "        )\n",
    "    )\n",
    "\n",
    "    # PANEL - 3\n",
    "    project.dashboard.add_panel(\n",
    "        DashboardPanelCounter(\n",
    "            title=\"Share of Drifted Features\",\n",
    "            filter=ReportFilter(metadata_values={}, tag_values=[]),\n",
    "            value=PanelValue(\n",
    "                metric_id=\"DatasetDriftMetric\",\n",
    "                field_path=\"share_of_drifted_columns\",\n",
    "                legend=\"share\",\n",
    "            ),\n",
    "            text=\"share\",\n",
    "            agg=CounterAgg.LAST,\n",
    "            size=1,\n",
    "        )\n",
    "    )\n",
    "\n",
    "    # PANEL - 4\n",
    "    project.dashboard.add_panel(\n",
    "        DashboardPanelPlot(\n",
    "            title=\"Dataset Quality\",\n",
    "            filter=ReportFilter(metadata_values={}, tag_values=[]),\n",
    "            values=[\n",
    "                PanelValue(metric_id=\"DatasetDriftMetric\", field_path=\"share_of_drifted_columns\", legend=\"Drift Share\"),\n",
    "                PanelValue(\n",
    "                    metric_id=\"DatasetMissingValuesMetric\",\n",
    "                    field_path=DatasetMissingValuesMetric.fields.current.share_of_missing_values,\n",
    "                    legend=\"Missing Values Share\",\n",
    "                ),\n",
    "            ],\n",
    "            plot_type=PlotType.LINE,\n",
    "        )\n",
    "    )\n",
    "\n",
    "    # PANEL - 5\n",
    "    project.dashboard.add_panel(\n",
    "        DashboardPanelPlot(\n",
    "            title=\"Age: Wasserstein drift distance\",\n",
    "            filter=ReportFilter(metadata_values={}, tag_values=[]),\n",
    "            values=[\n",
    "                PanelValue(\n",
    "                    metric_id=\"ColumnDriftMetric\",\n",
    "                    metric_args={\"column_name.name\": \"age\"},\n",
    "                    field_path=ColumnDriftMetric.fields.drift_score,\n",
    "                    legend=\"Drift Score\",\n",
    "                ),\n",
    "            ],\n",
    "            plot_type=PlotType.BAR,\n",
    "            size=1,\n",
    "        )\n",
    "    )\n",
    "    project.dashboard.add_panel(\n",
    "        DashboardPanelPlot(\n",
    "            title=\"Education-num: Wasserstein drift distance\",\n",
    "            filter=ReportFilter(metadata_values={}, tag_values=[]),\n",
    "            values=[\n",
    "                PanelValue(\n",
    "                    metric_id=\"ColumnDriftMetric\",\n",
    "                    metric_args={\"column_name.name\": \"education-num\"},\n",
    "                    field_path=ColumnDriftMetric.fields.drift_score,\n",
    "                    legend=\"Drift Score\",\n",
    "                ),\n",
    "            ],\n",
    "            plot_type=PlotType.BAR,\n",
    "            size=1,\n",
    "        )\n",
    "    )\n",
    "    project.save()\n",
    "    return project\n"
   ]
  },
  {
   "cell_type": "code",
   "execution_count": 8,
   "id": "d16aba61-1402-4798-b414-432ced3145b6",
   "metadata": {},
   "outputs": [],
   "source": [
    "ws = Workspace.create(WORKSPACE)\n",
    "project = create_project(ws)\n",
    "\n",
    "for i in range(0, 5):\n",
    "    report = create_report(i=i)\n",
    "    ws.add_report(project.id, report)\n",
    "\n",
    "    test_suite = create_test_suite(i=i)\n",
    "    ws.add_test_suite(project.id, test_suite)"
   ]
  },
  {
   "cell_type": "code",
   "execution_count": 10,
   "id": "78abc104-8d44-4074-a518-ff993e1ec6ce",
   "metadata": {},
   "outputs": [
    {
     "name": "stderr",
     "output_type": "stream",
     "text": [
      "/opt/anaconda3/lib/python3.11/site-packages/numpy/lib/function_base.py:2897: RuntimeWarning: invalid value encountered in divide\n",
      "  c /= stddev[:, None]\n",
      "/opt/anaconda3/lib/python3.11/site-packages/numpy/lib/function_base.py:2898: RuntimeWarning: invalid value encountered in divide\n",
      "  c /= stddev[None, :]\n",
      "/opt/anaconda3/lib/python3.11/site-packages/numpy/lib/function_base.py:2897: RuntimeWarning: invalid value encountered in divide\n",
      "  c /= stddev[:, None]\n",
      "/opt/anaconda3/lib/python3.11/site-packages/numpy/lib/function_base.py:2898: RuntimeWarning: invalid value encountered in divide\n",
      "  c /= stddev[None, :]\n"
     ]
    }
   ],
   "source": [
    "for i in range(25, 100):\n",
    "    report = create_report(i=i)\n",
    "    ws.add_report(project.id, report)\n",
    "\n",
    "    test_suite = create_test_suite(i=i)\n",
    "    ws.add_test_suite(project.id, test_suite)"
   ]
  },
  {
   "cell_type": "code",
   "execution_count": null,
   "id": "10824081-2041-4c64-8cf5-a0f3562bcf6b",
   "metadata": {},
   "outputs": [],
   "source": []
  },
  {
   "cell_type": "code",
   "execution_count": null,
   "id": "e80d57f7-0e13-42e5-9249-4b312c49e23b",
   "metadata": {},
   "outputs": [],
   "source": []
  }
 ],
 "metadata": {
  "kernelspec": {
   "display_name": "Python 3 (ipykernel)",
   "language": "python",
   "name": "python3"
  },
  "language_info": {
   "codemirror_mode": {
    "name": "ipython",
    "version": 3
   },
   "file_extension": ".py",
   "mimetype": "text/x-python",
   "name": "python",
   "nbconvert_exporter": "python",
   "pygments_lexer": "ipython3",
   "version": "3.11.7"
  }
 },
 "nbformat": 4,
 "nbformat_minor": 5
}
